{
  "nbformat": 4,
  "nbformat_minor": 0,
  "metadata": {
    "colab": {
      "provenance": [],
      "authorship_tag": "ABX9TyPJvMeeIls6wte3JyDjRVaL",
      "include_colab_link": true
    },
    "kernelspec": {
      "name": "python3",
      "display_name": "Python 3"
    },
    "language_info": {
      "name": "python"
    }
  },
  "cells": [
    {
      "cell_type": "markdown",
      "metadata": {
        "id": "view-in-github",
        "colab_type": "text"
      },
      "source": [
        "<a href=\"https://colab.research.google.com/github/AgentschapPlantentuinMeise/powo_name_matching/blob/main/name_matching.ipynb\" target=\"_parent\"><img src=\"https://colab.research.google.com/assets/colab-badge.svg\" alt=\"Open In Colab\"/></a>"
      ]
    },
    {
      "cell_type": "markdown",
      "source": [
        "# Matching POWO to names\n",
        "\n",
        "## Initialize"
      ],
      "metadata": {
        "id": "FpkdEeSTrxuC"
      }
    },
    {
      "cell_type": "code",
      "execution_count": 12,
      "metadata": {
        "id": "E2RRT-cMrqw7"
      },
      "outputs": [],
      "source": [
        "!pip install -q pykew\n",
        "\n",
        "\n",
        "import pykew.powo as powo\n",
        "from pykew.powo_terms import Name\n",
        "import pykew.ipni as ipni\n",
        "\n",
        "import warnings\n",
        "warnings.filterwarnings('ignore')"
      ]
    },
    {
      "cell_type": "markdown",
      "source": [
        "## Import XLSX file"
      ],
      "metadata": {
        "id": "8pwqKBdws1x8"
      }
    },
    {
      "cell_type": "code",
      "source": [
        "import io\n",
        "import pandas as pd\n",
        "\n",
        "from google.colab import files\n",
        "#uploaded = files.upload()\n",
        "\n",
        "#data = pd.read_excel(io.BytesIO(uploaded['TRNS_Maarten.xlsx']))"
      ],
      "metadata": {
        "id": "fnFcY8-Ts5TR"
      },
      "execution_count": 7,
      "outputs": []
    },
    {
      "cell_type": "markdown",
      "source": [
        "## Check data in file"
      ],
      "metadata": {
        "id": "ysCAq0-0tQ7g"
      }
    },
    {
      "cell_type": "code",
      "source": [
        "print(data)"
      ],
      "metadata": {
        "colab": {
          "base_uri": "https://localhost:8080/"
        },
        "id": "n0Zbeo74tUPQ",
        "outputId": "42e6a168-ea84-4cc4-c0c6-f3abecc68b56"
      },
      "execution_count": 8,
      "outputs": [
        {
          "output_type": "stream",
          "name": "stdout",
          "text": [
            "                                  Name_matched  \\\n",
            "0                Abolboda grandis var. grandis   \n",
            "1                          Abrahamia buxifolia   \n",
            "2              Acacia pervillei var. pubescens   \n",
            "3                              Achillea atrata   \n",
            "4               Achillea atrata subsp. halleri   \n",
            "...                                        ...   \n",
            "1410                       Xanthium strumarium   \n",
            "1411                    Xenophyllum lorochaqui   \n",
            "1412   Zannichellia palustris subsp. palustris   \n",
            "1413  Zannichellia palustris subvar. polycarpa   \n",
            "1414                      Zygophyllum olivieri   \n",
            "\n",
            "                                       Name_matched_url  \n",
            "0     https://powo.science.kew.org/taxon/urn:lsid:ip...  \n",
            "1     https://powo.science.kew.org/taxon/urn:lsid:ip...  \n",
            "2     https://powo.science.kew.org/taxon/urn:lsid:ip...  \n",
            "3     https://powo.science.kew.org/taxon/urn:lsid:ip...  \n",
            "4     https://powo.science.kew.org/taxon/urn:lsid:ip...  \n",
            "...                                                 ...  \n",
            "1410  https://powo.science.kew.org/taxon/urn:lsid:ip...  \n",
            "1411  https://powo.science.kew.org/taxon/urn:lsid:ip...  \n",
            "1412  https://powo.science.kew.org/taxon/urn:lsid:ip...  \n",
            "1413  https://powo.science.kew.org/taxon/urn:lsid:ip...  \n",
            "1414  https://powo.science.kew.org/taxon/urn:lsid:ip...  \n",
            "\n",
            "[1415 rows x 2 columns]\n"
          ]
        }
      ]
    },
    {
      "cell_type": "code",
      "source": [
        "## Try to use matching service of POWO and compare to Name_matched_url"
      ],
      "metadata": {
        "id": "Yw6xlbGbtmml"
      },
      "execution_count": 9,
      "outputs": []
    },
    {
      "cell_type": "code",
      "source": [
        "columns = ['original_name', 'original_url', 'POWO_accepted', 'POWO_name', 'POWO_rank', 'POWO_url']\n",
        "df_results = pd.DataFrame()\n",
        "\n",
        "for index, row in data.iterrows():\n",
        "  original_name = row[\"Name_matched\"]\n",
        "  original_url = row[\"Name_matched_url\"]\n",
        "\n",
        "  #check the name in POWO\n",
        "  result = powo.search(original_name)\n",
        "\n",
        "  try:\n",
        "    for r in result:\n",
        "      accepted = r['accepted']\n",
        "      name = r['name']\n",
        "      rank = r['rank']\n",
        "      url = r['url']\n",
        "\n",
        "\n",
        "  except Exception:\n",
        "    accepted = 'not found'\n",
        "    name = 'not found'\n",
        "    rank = 'not found'\n",
        "    url = 'not found'\n",
        "\n",
        "  df_results = df_results.append({'original_name': original_name,\n",
        "                                    'original_url': original_url,\n",
        "                                    'POWO_accepted': accepted,\n",
        "                                    'POWO_name': name,\n",
        "                                    'POWO_rank' : rank,\n",
        "                                    'POWO_url': url}, ignore_index=True)\n",
        "\n",
        "print(df_results)\n",
        "\n"
      ],
      "metadata": {
        "colab": {
          "base_uri": "https://localhost:8080/"
        },
        "id": "Q8wKzYMxtvF0",
        "outputId": "365293c3-f0bf-47d4-a599-e8ae32b29fe4"
      },
      "execution_count": 13,
      "outputs": [
        {
          "output_type": "stream",
          "name": "stdout",
          "text": [
            "                                 original_name  \\\n",
            "0                Abolboda grandis var. grandis   \n",
            "1                          Abrahamia buxifolia   \n",
            "2              Acacia pervillei var. pubescens   \n",
            "3                              Achillea atrata   \n",
            "4               Achillea atrata subsp. halleri   \n",
            "...                                        ...   \n",
            "1410                       Xanthium strumarium   \n",
            "1411                    Xenophyllum lorochaqui   \n",
            "1412   Zannichellia palustris subsp. palustris   \n",
            "1413  Zannichellia palustris subvar. polycarpa   \n",
            "1414                      Zygophyllum olivieri   \n",
            "\n",
            "                                           original_url POWO_accepted  \\\n",
            "0     https://powo.science.kew.org/taxon/urn:lsid:ip...          True   \n",
            "1     https://powo.science.kew.org/taxon/urn:lsid:ip...          True   \n",
            "2     https://powo.science.kew.org/taxon/urn:lsid:ip...         False   \n",
            "3     https://powo.science.kew.org/taxon/urn:lsid:ip...          True   \n",
            "4     https://powo.science.kew.org/taxon/urn:lsid:ip...         False   \n",
            "...                                                 ...           ...   \n",
            "1410  https://powo.science.kew.org/taxon/urn:lsid:ip...          True   \n",
            "1411  https://powo.science.kew.org/taxon/urn:lsid:ip...         False   \n",
            "1412  https://powo.science.kew.org/taxon/urn:lsid:ip...          True   \n",
            "1413  https://powo.science.kew.org/taxon/urn:lsid:ip...          True   \n",
            "1414  https://powo.science.kew.org/taxon/urn:lsid:ip...          True   \n",
            "\n",
            "                                    POWO_name   POWO_rank  \\\n",
            "0               Abolboda grandis var. grandis     Variety   \n",
            "1                         Abrahamia buxifolia     Species   \n",
            "2             Acacia pervillei var. pubescens     Variety   \n",
            "3                             Achillea atrata     Species   \n",
            "4              Achillea atrata subsp. halleri  Subspecies   \n",
            "...                                       ...         ...   \n",
            "1410                      Xanthium strumarium     Species   \n",
            "1411                   Xenophyllum lorochaqui     Species   \n",
            "1412  Zannichellia palustris subsp. palustris  Subspecies   \n",
            "1413  Zannichellia palustris subsp. palustris  Subspecies   \n",
            "1414                     Zygophyllum olivieri     Species   \n",
            "\n",
            "                                       POWO_url  \n",
            "0     /taxon/urn:lsid:ipni.org:names:77169068-1  \n",
            "1     /taxon/urn:lsid:ipni.org:names:77175637-1  \n",
            "2     /taxon/urn:lsid:ipni.org:names:20004614-1  \n",
            "3       /taxon/urn:lsid:ipni.org:names:173829-1  \n",
            "4      /taxon/urn:lsid:ipni.org:names:3247461-4  \n",
            "...                                         ...  \n",
            "1410    /taxon/urn:lsid:ipni.org:names:260893-1  \n",
            "1411  /taxon/urn:lsid:ipni.org:names:77204850-1  \n",
            "1412  /taxon/urn:lsid:ipni.org:names:77170965-1  \n",
            "1413  /taxon/urn:lsid:ipni.org:names:77170965-1  \n",
            "1414  /taxon/urn:lsid:ipni.org:names:77184935-1  \n",
            "\n",
            "[1415 rows x 6 columns]\n"
          ]
        }
      ]
    },
    {
      "cell_type": "markdown",
      "source": [
        "## Save to Google Drive"
      ],
      "metadata": {
        "id": "EGQCEbgz1SN2"
      }
    },
    {
      "cell_type": "code",
      "source": [
        "!pip install gspread\n",
        "from google.colab import auth\n",
        "from google.auth import default\n",
        "import gspread\n",
        "\n",
        "#Auth\n",
        "auth.authenticate_user()\n",
        "creds, _ = default()\n",
        "gc = gspread.authorize(creds)\n",
        "spreadsheet_key = '1IOuauVP3jNCUbcDdQyQ7zyW5lpfoVd_vjDZD0g_rMJ4'\n",
        "workbook = gc.open_by_key(spreadsheet_key)\n",
        "workbook.values_update(\n",
        "  'Blad1',\n",
        "  params={\n",
        "      'valueInputOption': 'USER_ENTERED'\n",
        "  },\n",
        "  body={\n",
        "      'values': [df_results.columns.values.tolist()] + df_results.values.tolist()\n",
        "  }\n",
        ")"
      ],
      "metadata": {
        "colab": {
          "base_uri": "https://localhost:8080/"
        },
        "id": "COLkVcw21Vkp",
        "outputId": "33bafb20-f41d-4665-ada1-193f665d9dfe"
      },
      "execution_count": 15,
      "outputs": [
        {
          "output_type": "stream",
          "name": "stdout",
          "text": [
            "Requirement already satisfied: gspread in /usr/local/lib/python3.10/dist-packages (3.4.2)\n",
            "Requirement already satisfied: requests>=2.2.1 in /usr/local/lib/python3.10/dist-packages (from gspread) (2.27.1)\n",
            "Requirement already satisfied: google-auth in /usr/local/lib/python3.10/dist-packages (from gspread) (2.17.3)\n",
            "Requirement already satisfied: urllib3<1.27,>=1.21.1 in /usr/local/lib/python3.10/dist-packages (from requests>=2.2.1->gspread) (1.26.16)\n",
            "Requirement already satisfied: certifi>=2017.4.17 in /usr/local/lib/python3.10/dist-packages (from requests>=2.2.1->gspread) (2023.7.22)\n",
            "Requirement already satisfied: charset-normalizer~=2.0.0 in /usr/local/lib/python3.10/dist-packages (from requests>=2.2.1->gspread) (2.0.12)\n",
            "Requirement already satisfied: idna<4,>=2.5 in /usr/local/lib/python3.10/dist-packages (from requests>=2.2.1->gspread) (3.4)\n",
            "Requirement already satisfied: cachetools<6.0,>=2.0.0 in /usr/local/lib/python3.10/dist-packages (from google-auth->gspread) (5.3.1)\n",
            "Requirement already satisfied: pyasn1-modules>=0.2.1 in /usr/local/lib/python3.10/dist-packages (from google-auth->gspread) (0.3.0)\n",
            "Requirement already satisfied: six>=1.9.0 in /usr/local/lib/python3.10/dist-packages (from google-auth->gspread) (1.16.0)\n",
            "Requirement already satisfied: rsa<5,>=3.1.4 in /usr/local/lib/python3.10/dist-packages (from google-auth->gspread) (4.9)\n",
            "Requirement already satisfied: pyasn1<0.6.0,>=0.4.6 in /usr/local/lib/python3.10/dist-packages (from pyasn1-modules>=0.2.1->google-auth->gspread) (0.5.0)\n"
          ]
        },
        {
          "output_type": "execute_result",
          "data": {
            "text/plain": [
              "{'spreadsheetId': '1IOuauVP3jNCUbcDdQyQ7zyW5lpfoVd_vjDZD0g_rMJ4',\n",
              " 'updatedRange': 'Blad1!A1:F1416',\n",
              " 'updatedRows': 1416,\n",
              " 'updatedColumns': 6,\n",
              " 'updatedCells': 8496}"
            ]
          },
          "metadata": {},
          "execution_count": 15
        }
      ]
    }
  ]
}