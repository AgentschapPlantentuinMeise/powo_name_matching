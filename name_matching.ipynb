{
  "nbformat": 4,
  "nbformat_minor": 0,
  "metadata": {
    "colab": {
      "provenance": [],
      "authorship_tag": "ABX9TyP26Et1c1uvcpmh7lORRWE3",
      "include_colab_link": true
    },
    "kernelspec": {
      "name": "python3",
      "display_name": "Python 3"
    },
    "language_info": {
      "name": "python"
    }
  },
  "cells": [
    {
      "cell_type": "markdown",
      "metadata": {
        "id": "view-in-github",
        "colab_type": "text"
      },
      "source": [
        "<a href=\"https://colab.research.google.com/github/AgentschapPlantentuinMeise/powo_name_matching/blob/main/name_matching.ipynb\" target=\"_parent\"><img src=\"https://colab.research.google.com/assets/colab-badge.svg\" alt=\"Open In Colab\"/></a>"
      ]
    },
    {
      "cell_type": "markdown",
      "source": [
        "# Matching POWO to names\n",
        "\n",
        "## Initialize"
      ],
      "metadata": {
        "id": "FpkdEeSTrxuC"
      }
    },
    {
      "cell_type": "code",
      "execution_count": 19,
      "metadata": {
        "id": "E2RRT-cMrqw7",
        "colab": {
          "base_uri": "https://localhost:8080/",
          "height": 321
        },
        "outputId": "5ea35964-9933-433f-fbf4-e49e6de14dd0"
      },
      "outputs": [
        {
          "output_type": "error",
          "ename": "AssertionError",
          "evalue": "ignored",
          "traceback": [
            "\u001b[0;31m---------------------------------------------------------------------------\u001b[0m",
            "\u001b[0;31mAssertionError\u001b[0m                            Traceback (most recent call last)",
            "\u001b[0;32m<ipython-input-19-ddfd31bff439>\u001b[0m in \u001b[0;36m<cell line: 10>\u001b[0;34m()\u001b[0m\n\u001b[1;32m      8\u001b[0m \u001b[0;34m\u001b[0m\u001b[0m\n\u001b[1;32m      9\u001b[0m \u001b[0;32mimport\u001b[0m \u001b[0mwarnings\u001b[0m\u001b[0;34m\u001b[0m\u001b[0;34m\u001b[0m\u001b[0m\n\u001b[0;32m---> 10\u001b[0;31m \u001b[0mwarnings\u001b[0m\u001b[0;34m.\u001b[0m\u001b[0mfilterwarnings\u001b[0m\u001b[0;34m(\u001b[0m\u001b[0;34m'none'\u001b[0m\u001b[0;34m)\u001b[0m\u001b[0;34m\u001b[0m\u001b[0;34m\u001b[0m\u001b[0m\n\u001b[0m",
            "\u001b[0;32m/usr/lib/python3.10/warnings.py\u001b[0m in \u001b[0;36mfilterwarnings\u001b[0;34m(action, message, category, module, lineno, append)\u001b[0m\n\u001b[1;32m    140\u001b[0m     \u001b[0;34m'append'\u001b[0m \u001b[0;34m-\u001b[0m\u001b[0;34m-\u001b[0m \u001b[0;32mif\u001b[0m \u001b[0mtrue\u001b[0m\u001b[0;34m,\u001b[0m \u001b[0mappend\u001b[0m \u001b[0mto\u001b[0m \u001b[0mthe\u001b[0m \u001b[0mlist\u001b[0m \u001b[0mof\u001b[0m \u001b[0mfilters\u001b[0m\u001b[0;34m\u001b[0m\u001b[0;34m\u001b[0m\u001b[0m\n\u001b[1;32m    141\u001b[0m     \"\"\"\n\u001b[0;32m--> 142\u001b[0;31m     assert action in (\"error\", \"ignore\", \"always\", \"default\", \"module\",\n\u001b[0m\u001b[1;32m    143\u001b[0m                       \"once\"), \"invalid action: %r\" % (action,)\n\u001b[1;32m    144\u001b[0m     \u001b[0;32massert\u001b[0m \u001b[0misinstance\u001b[0m\u001b[0;34m(\u001b[0m\u001b[0mmessage\u001b[0m\u001b[0;34m,\u001b[0m \u001b[0mstr\u001b[0m\u001b[0;34m)\u001b[0m\u001b[0;34m,\u001b[0m \u001b[0;34m\"message must be a string\"\u001b[0m\u001b[0;34m\u001b[0m\u001b[0;34m\u001b[0m\u001b[0m\n",
            "\u001b[0;31mAssertionError\u001b[0m: invalid action: 'none'"
          ]
        }
      ],
      "source": [
        "!pip install -q pykew\n",
        "\n",
        "\n",
        "import pykew.powo as powo\n",
        "from pykew.powo_terms import Name\n",
        "import pykew.ipni as ipni\n",
        "from pykew.ipni_terms import Name\n",
        "\n",
        "import warnings\n",
        "warnings.filterwarnings('ignore')"
      ]
    },
    {
      "cell_type": "markdown",
      "source": [
        "## Import XLSX file"
      ],
      "metadata": {
        "id": "8pwqKBdws1x8"
      }
    },
    {
      "cell_type": "code",
      "source": [
        "import io\n",
        "import pandas as pd\n",
        "\n",
        "from google.colab import files\n",
        "uploaded = files.upload()\n",
        "\n",
        "data = pd.read_excel(io.BytesIO(uploaded['TRNS_Maarten.xlsx']))"
      ],
      "metadata": {
        "id": "fnFcY8-Ts5TR",
        "colab": {
          "base_uri": "https://localhost:8080/",
          "height": 73
        },
        "outputId": "6d395e1e-8a0b-4785-ba05-eba265556582"
      },
      "execution_count": 2,
      "outputs": [
        {
          "output_type": "display_data",
          "data": {
            "text/plain": [
              "<IPython.core.display.HTML object>"
            ],
            "text/html": [
              "\n",
              "     <input type=\"file\" id=\"files-de53ad0c-09b6-4329-a289-9e364434a26d\" name=\"files[]\" multiple disabled\n",
              "        style=\"border:none\" />\n",
              "     <output id=\"result-de53ad0c-09b6-4329-a289-9e364434a26d\">\n",
              "      Upload widget is only available when the cell has been executed in the\n",
              "      current browser session. Please rerun this cell to enable.\n",
              "      </output>\n",
              "      <script>// Copyright 2017 Google LLC\n",
              "//\n",
              "// Licensed under the Apache License, Version 2.0 (the \"License\");\n",
              "// you may not use this file except in compliance with the License.\n",
              "// You may obtain a copy of the License at\n",
              "//\n",
              "//      http://www.apache.org/licenses/LICENSE-2.0\n",
              "//\n",
              "// Unless required by applicable law or agreed to in writing, software\n",
              "// distributed under the License is distributed on an \"AS IS\" BASIS,\n",
              "// WITHOUT WARRANTIES OR CONDITIONS OF ANY KIND, either express or implied.\n",
              "// See the License for the specific language governing permissions and\n",
              "// limitations under the License.\n",
              "\n",
              "/**\n",
              " * @fileoverview Helpers for google.colab Python module.\n",
              " */\n",
              "(function(scope) {\n",
              "function span(text, styleAttributes = {}) {\n",
              "  const element = document.createElement('span');\n",
              "  element.textContent = text;\n",
              "  for (const key of Object.keys(styleAttributes)) {\n",
              "    element.style[key] = styleAttributes[key];\n",
              "  }\n",
              "  return element;\n",
              "}\n",
              "\n",
              "// Max number of bytes which will be uploaded at a time.\n",
              "const MAX_PAYLOAD_SIZE = 100 * 1024;\n",
              "\n",
              "function _uploadFiles(inputId, outputId) {\n",
              "  const steps = uploadFilesStep(inputId, outputId);\n",
              "  const outputElement = document.getElementById(outputId);\n",
              "  // Cache steps on the outputElement to make it available for the next call\n",
              "  // to uploadFilesContinue from Python.\n",
              "  outputElement.steps = steps;\n",
              "\n",
              "  return _uploadFilesContinue(outputId);\n",
              "}\n",
              "\n",
              "// This is roughly an async generator (not supported in the browser yet),\n",
              "// where there are multiple asynchronous steps and the Python side is going\n",
              "// to poll for completion of each step.\n",
              "// This uses a Promise to block the python side on completion of each step,\n",
              "// then passes the result of the previous step as the input to the next step.\n",
              "function _uploadFilesContinue(outputId) {\n",
              "  const outputElement = document.getElementById(outputId);\n",
              "  const steps = outputElement.steps;\n",
              "\n",
              "  const next = steps.next(outputElement.lastPromiseValue);\n",
              "  return Promise.resolve(next.value.promise).then((value) => {\n",
              "    // Cache the last promise value to make it available to the next\n",
              "    // step of the generator.\n",
              "    outputElement.lastPromiseValue = value;\n",
              "    return next.value.response;\n",
              "  });\n",
              "}\n",
              "\n",
              "/**\n",
              " * Generator function which is called between each async step of the upload\n",
              " * process.\n",
              " * @param {string} inputId Element ID of the input file picker element.\n",
              " * @param {string} outputId Element ID of the output display.\n",
              " * @return {!Iterable<!Object>} Iterable of next steps.\n",
              " */\n",
              "function* uploadFilesStep(inputId, outputId) {\n",
              "  const inputElement = document.getElementById(inputId);\n",
              "  inputElement.disabled = false;\n",
              "\n",
              "  const outputElement = document.getElementById(outputId);\n",
              "  outputElement.innerHTML = '';\n",
              "\n",
              "  const pickedPromise = new Promise((resolve) => {\n",
              "    inputElement.addEventListener('change', (e) => {\n",
              "      resolve(e.target.files);\n",
              "    });\n",
              "  });\n",
              "\n",
              "  const cancel = document.createElement('button');\n",
              "  inputElement.parentElement.appendChild(cancel);\n",
              "  cancel.textContent = 'Cancel upload';\n",
              "  const cancelPromise = new Promise((resolve) => {\n",
              "    cancel.onclick = () => {\n",
              "      resolve(null);\n",
              "    };\n",
              "  });\n",
              "\n",
              "  // Wait for the user to pick the files.\n",
              "  const files = yield {\n",
              "    promise: Promise.race([pickedPromise, cancelPromise]),\n",
              "    response: {\n",
              "      action: 'starting',\n",
              "    }\n",
              "  };\n",
              "\n",
              "  cancel.remove();\n",
              "\n",
              "  // Disable the input element since further picks are not allowed.\n",
              "  inputElement.disabled = true;\n",
              "\n",
              "  if (!files) {\n",
              "    return {\n",
              "      response: {\n",
              "        action: 'complete',\n",
              "      }\n",
              "    };\n",
              "  }\n",
              "\n",
              "  for (const file of files) {\n",
              "    const li = document.createElement('li');\n",
              "    li.append(span(file.name, {fontWeight: 'bold'}));\n",
              "    li.append(span(\n",
              "        `(${file.type || 'n/a'}) - ${file.size} bytes, ` +\n",
              "        `last modified: ${\n",
              "            file.lastModifiedDate ? file.lastModifiedDate.toLocaleDateString() :\n",
              "                                    'n/a'} - `));\n",
              "    const percent = span('0% done');\n",
              "    li.appendChild(percent);\n",
              "\n",
              "    outputElement.appendChild(li);\n",
              "\n",
              "    const fileDataPromise = new Promise((resolve) => {\n",
              "      const reader = new FileReader();\n",
              "      reader.onload = (e) => {\n",
              "        resolve(e.target.result);\n",
              "      };\n",
              "      reader.readAsArrayBuffer(file);\n",
              "    });\n",
              "    // Wait for the data to be ready.\n",
              "    let fileData = yield {\n",
              "      promise: fileDataPromise,\n",
              "      response: {\n",
              "        action: 'continue',\n",
              "      }\n",
              "    };\n",
              "\n",
              "    // Use a chunked sending to avoid message size limits. See b/62115660.\n",
              "    let position = 0;\n",
              "    do {\n",
              "      const length = Math.min(fileData.byteLength - position, MAX_PAYLOAD_SIZE);\n",
              "      const chunk = new Uint8Array(fileData, position, length);\n",
              "      position += length;\n",
              "\n",
              "      const base64 = btoa(String.fromCharCode.apply(null, chunk));\n",
              "      yield {\n",
              "        response: {\n",
              "          action: 'append',\n",
              "          file: file.name,\n",
              "          data: base64,\n",
              "        },\n",
              "      };\n",
              "\n",
              "      let percentDone = fileData.byteLength === 0 ?\n",
              "          100 :\n",
              "          Math.round((position / fileData.byteLength) * 100);\n",
              "      percent.textContent = `${percentDone}% done`;\n",
              "\n",
              "    } while (position < fileData.byteLength);\n",
              "  }\n",
              "\n",
              "  // All done.\n",
              "  yield {\n",
              "    response: {\n",
              "      action: 'complete',\n",
              "    }\n",
              "  };\n",
              "}\n",
              "\n",
              "scope.google = scope.google || {};\n",
              "scope.google.colab = scope.google.colab || {};\n",
              "scope.google.colab._files = {\n",
              "  _uploadFiles,\n",
              "  _uploadFilesContinue,\n",
              "};\n",
              "})(self);\n",
              "</script> "
            ]
          },
          "metadata": {}
        },
        {
          "output_type": "stream",
          "name": "stdout",
          "text": [
            "Saving TRNS_Maarten.xlsx to TRNS_Maarten.xlsx\n"
          ]
        }
      ]
    },
    {
      "cell_type": "markdown",
      "source": [
        "## Check data in file"
      ],
      "metadata": {
        "id": "ysCAq0-0tQ7g"
      }
    },
    {
      "cell_type": "code",
      "source": [
        "print(data)"
      ],
      "metadata": {
        "colab": {
          "base_uri": "https://localhost:8080/"
        },
        "id": "n0Zbeo74tUPQ",
        "outputId": "910deba2-79b8-4d76-b2b6-a255db6abc51"
      },
      "execution_count": 3,
      "outputs": [
        {
          "output_type": "stream",
          "name": "stdout",
          "text": [
            "                                  Name_matched  \\\n",
            "0                Abolboda grandis var. grandis   \n",
            "1                          Abrahamia buxifolia   \n",
            "2              Acacia pervillei var. pubescens   \n",
            "3                              Achillea atrata   \n",
            "4               Achillea atrata subsp. halleri   \n",
            "...                                        ...   \n",
            "1410                       Xanthium strumarium   \n",
            "1411                    Xenophyllum lorochaqui   \n",
            "1412   Zannichellia palustris subsp. palustris   \n",
            "1413  Zannichellia palustris subvar. polycarpa   \n",
            "1414                      Zygophyllum olivieri   \n",
            "\n",
            "                                       Name_matched_url  \n",
            "0     https://powo.science.kew.org/taxon/urn:lsid:ip...  \n",
            "1     https://powo.science.kew.org/taxon/urn:lsid:ip...  \n",
            "2     https://powo.science.kew.org/taxon/urn:lsid:ip...  \n",
            "3     https://powo.science.kew.org/taxon/urn:lsid:ip...  \n",
            "4     https://powo.science.kew.org/taxon/urn:lsid:ip...  \n",
            "...                                                 ...  \n",
            "1410  https://powo.science.kew.org/taxon/urn:lsid:ip...  \n",
            "1411  https://powo.science.kew.org/taxon/urn:lsid:ip...  \n",
            "1412  https://powo.science.kew.org/taxon/urn:lsid:ip...  \n",
            "1413  https://powo.science.kew.org/taxon/urn:lsid:ip...  \n",
            "1414  https://powo.science.kew.org/taxon/urn:lsid:ip...  \n",
            "\n",
            "[1415 rows x 2 columns]\n"
          ]
        }
      ]
    },
    {
      "cell_type": "code",
      "source": [
        "print(data.Name_matched)"
      ],
      "metadata": {
        "id": "Yw6xlbGbtmml",
        "colab": {
          "base_uri": "https://localhost:8080/"
        },
        "outputId": "950e3dc2-650f-4b14-cb45-3f58a26335bf"
      },
      "execution_count": 4,
      "outputs": [
        {
          "output_type": "stream",
          "name": "stdout",
          "text": [
            "0                  Abolboda grandis var. grandis\n",
            "1                            Abrahamia buxifolia\n",
            "2                Acacia pervillei var. pubescens\n",
            "3                                Achillea atrata\n",
            "4                 Achillea atrata subsp. halleri\n",
            "                          ...                   \n",
            "1410                         Xanthium strumarium\n",
            "1411                      Xenophyllum lorochaqui\n",
            "1412     Zannichellia palustris subsp. palustris\n",
            "1413    Zannichellia palustris subvar. polycarpa\n",
            "1414                        Zygophyllum olivieri\n",
            "Name: Name_matched, Length: 1415, dtype: object\n"
          ]
        }
      ]
    },
    {
      "cell_type": "code",
      "source": [
        "columns = ['original_name', 'original_url', 'POWO_accepted', 'POWO_name', 'POWO_rank', 'POWO_url', 'authors', 'citationType', 'url_ipni']\n",
        "df_results = pd.DataFrame()\n",
        "\n",
        "for index, row in data.iterrows():\n",
        "  original_name = row[\"Name_matched\"]\n",
        "  original_url = row[\"Name_matched_url\"]\n",
        "\n",
        "  #check the name in POWO\n",
        "  result = powo.search(original_name)\n",
        "  result_ipni = ipni.search(original_name)\n",
        "\n",
        "  try:\n",
        "    for r in result:\n",
        "        accepted = r['accepted']\n",
        "        name = r['name']\n",
        "        rank = r['rank']\n",
        "        url = r['url']\n",
        "  except Exception:\n",
        "    accepted = 'not found'\n",
        "    name = 'not found'\n",
        "    rank = 'not found'\n",
        "    url = 'not found'\n",
        "\n",
        "  try:\n",
        "    for rs in result_ipni:\n",
        "        authors = rs['authors']\n",
        "        citationType = rs['citationType']\n",
        "        url_ipni = rs['url']\n",
        "  except Exception:\n",
        "    authors = 'not found'\n",
        "    citationType = 'not found'\n",
        "    url_ipni = 'not found'\n",
        "\n",
        "  ''' Example output IPNI, to check which proporties can be asked\n",
        "  [{'name': 'Abolboda grandis var. guayanensis', 'authors': 'Maguire',\n",
        "  'publishingAuthor': 'Maguire', 'authorTeam': [{'name': 'Maguire', 'id': '5988-1', 'order': 1, 'type': 'aut', 'summary': None,\n",
        "  'url': '/a/5988-1'}], 'rank': 'var.', 'url': '/n/19-2', 'family': 'Xyridaceae', 'genus': 'Abolboda', 'species': 'grandis',\n",
        "   'citationType': 'tax. nov.', 'distribution': 'Venezuela &amp; British Guiana', 'hybrid': False, 'hybridGenus': False,\n",
        "   'infraspecies': 'guayanensis', 'inPowo': True, 'linkedPublication': {'abbreviation': 'Mem. New York Bot. Gard.',\n",
        "   'bphNumber': '578.14', 'date': 'Vol. 1+, 1900+', 'fqId': 'urn:lsid:ipni.org:publications:719-2', 'id': '719-2',\n",
        "   'lcNumber': 'QK1.M4313', 'recordType': 'publication', 'suppressed': False, 'title': 'Memoirs of the New York Botanical Garden. Bronx, NY',\n",
        "    'url': '/p/719-2', 'version': '1.1.2.1.1.1', 'hasBhlLinks': True, 'hasBhlTitleLink': True, 'hasBhlPageLink': False,\n",
        "    'bhlTitleLink': 'http://www.biodiversitylibrary.org/openurl?ctx_ver=Z39.88-2004&rft_id=http://www.biodiversitylibrary.org/bibliography/50489&rft_val_fmt=info:ofi/fmt:kev:mtx:book&url_ver=z39.88-2004'},\n",
        "     'publication': 'Mem. New York Bot. Gard.', 'publicationYear': 1958, 'referenceCollation': '10: 8', 'publicationId': '719-2', 'recordType': 'citation',\n",
        "     'reference': 'Mem. New York Bot. Gard. 10: 8. 1958 ', 'speciesAuthor': 'Griseb.', 'suppressed': False, 'topCopy': True, 'version': '1.2',\n",
        "     'id': '19-2', 'fqId': 'urn:lsid:ipni.org:names:19-2', 'wfoId': 'wfo-0000336958', 'hasNomenclaturalNotes': False,\n",
        "     'hasExternalLinks': True, 'hasTypeData': True, 'hasOriginalData': False, 'hasLinks': False,\n",
        "     'bhlLink': 'http://www.biodiversitylibrary.org/openurl?ctx_ver=Z39.88-2004&rft.date=1958&rft.spage=8&rft.volume=10&rft_id=http://www.biodiversitylibrary.org/bibliography/50489&rft_val_fmt=info:ofi/fmt:kev:mtx:book&url_ver=z39.88-2004'}, {'name': 'Abolboda grandis var. minor', 'authors': 'Spruce', 'publishingAuthor': 'Spruce', 'authorTeam': [{'name': 'Spruce', 'id': '9995-1', 'order': 0, 'type': 'aut', 'summary': None, 'url': '/a/9995-1'}], 'rank': 'var.', 'url': '/n/20-2', 'family': 'Xyridaceae', 'genus': 'Abolboda', 'species': 'grandis', 'citationType': 'tax. nov.', 'distribution': 'Brazil (Southern America)', 'hybrid': False, 'hybridGenus': False, 'infraspecies': 'minor', 'inPowo': True, 'linkedPublication': {'abbreviation': 'Bih. Kongl. Svenska Vetensk.-Akad. Handl.', 'bphNumber': '191.14; BPH-2: 187', 'date': 'Vols. 1-28, 1872-1903', 'fqId': 'urn:lsid:ipni.org:publications:546-2', 'id': '546-2', 'lcNumber': 'QK1.B286', 'recordType': 'publication', 'suppressed': False, 'supercededBy': 'Arkiv för botanik', 'title': 'Bihang til Kongliga Svenska Vetenskaps-Akademiens Handlingar. Stockholm', 'url': '/p/546-2', 'version': '1.5', 'hasBhlLinks': True, 'hasBhlTitleLink': True, 'hasBhlPageLink': False, 'bhlTitleLink': 'http://www.biodiversitylibrary.org/openurl?ctx_ver=Z39.88-2004&rft_id=http://www.biodiversitylibrary.org/bibliography/13353&rft_val_fmt=info:ofi/fmt:kev:mtx:book&url_ver=z39.88-2004'}, 'publication': 'Bih. Kongl. Svenska Vetensk.-Akad. Handl.', 'publicationYear': 1901, 'referenceCollation': '26, Afd. 3, No. 19: 14', 'publicationId': '546-2', 'recordType': 'citation', 'reference': 'Bih. Kongl. Svenska Vetensk.-Akad. Handl. 26, Afd. 3, No. 19: 14. 1901 ', 'suppressed': False, 'topCopy': True, 'version': '1.2', 'id': '20-2', 'fqId': 'urn:lsid:ipni.org:names:20-2', 'wfoId': 'wfo-0000336959', 'hasNomenclaturalNotes': False, 'hasExternalLinks': True, 'hasTypeData': True, 'hasOriginalData': False, 'hasLinks': False}, {'name': 'Abolboda grandis var. rigida', 'authors': 'Malme', 'publishingAuthor': 'Malme', 'authorTeam': [{'name': 'Malme', 'id': '22826-1', 'order': 0, 'type': 'aut', 'summary': None, 'url': '/a/22826-1'}], 'rank': 'var.', 'url': '/n/292698-2', 'family': 'Xyridaceae', 'genus': 'Abolboda', 'species': 'grandis', 'citationType': 'tax. nov.', 'distribution': 'Venezuela (Northern South America, Southern America)', 'hybrid': False, 'hybridGenus': False, 'infraspecies': 'rigida', 'inPowo': True, 'linkedPublication': {'abbreviation': 'Bull. Torrey Bot. Club', 'bphNumber': '284.15', 'date': 'Vol. 1+, 1870+', 'fqId': 'urn:lsid:ipni.org:publications:586-2', 'id': '586-2', 'recordType': 'publication', 'suppressed': False, 'supercededBy': 'Journal of the Torrey Botanical Club (124+; 1997)', 'title': 'Bulletin of the Torrey Botanical Club. New York', 'url': '/p/586-2', 'version': '1.1.2.1.1.1', 'hasBhlLinks': True, 'hasBhlTitleLink': True, 'hasBhlPageLink': False, 'bhlTitleLink': 'http://www.biodiversitylibrary.org/openurl?ctx_ver=Z39.88-2004&rft_id=http://www.biodiversitylibrary.org/bibliography/340&rft_val_fmt=info:ofi/fmt:kev:mtx:book&url_ver=z39.88-2004'}, 'publication': 'Bull. Torrey Bot. Club', 'publicationYear': 1931, 'referenceCollation': '58: 326', 'publicationId': '586-2', 'recordType': 'citation', 'reference': 'Bull. Torrey Bot. Club 58: 326. 1931 ', 'suppressed': False, 'topCopy': True, 'version': '1.2', 'id': '292698-2', 'fqId': 'urn:lsid:ipni.org:names:292698-2', 'wfoId': 'wfo-0000336960', 'hasNomenclaturalNotes': False, 'hasExternalLinks': True, 'hasTypeData': True, 'hasOriginalData': False, 'hasLinks': False, 'bhlLink': 'http://www.biodiversitylibrary.org/openurl?ctx_ver=Z39.88-2004&rft.date=1931&rft.spage=326&rft.volume=58&rft_id=http://www.biodiversitylibrary.org/bibliography/340&rft_val_fmt=info:ofi/fmt:kev:mtx:book&url_ver=z39.88-2004'}]\n",
        " '''\n",
        "\n",
        "  df_results = df_results.append({'original_name': original_name,\n",
        "                                    'original_url': original_url,\n",
        "                                    'POWO_accepted': accepted,\n",
        "                                    'POWO_name': name,\n",
        "                                    'POWO_rank' : rank,\n",
        "                                    'POWO_url': url,\n",
        "                                    'authors' : authors,\n",
        "                                    'citationType' : citationType,\n",
        "                                    'url_ipni' : url_ipni }, ignore_index=True)\n",
        "\n",
        "\n",
        "\n",
        "print(df_results)\n",
        "\n"
      ],
      "metadata": {
        "colab": {
          "base_uri": "https://localhost:8080/"
        },
        "id": "Q8wKzYMxtvF0",
        "outputId": "f46237c4-6b69-478e-c8ed-ec772b20d436"
      },
      "execution_count": 24,
      "outputs": [
        {
          "output_type": "stream",
          "name": "stdout",
          "text": [
            "                     original_name  \\\n",
            "0    Abolboda grandis var. grandis   \n",
            "1              Abrahamia buxifolia   \n",
            "2  Acacia pervillei var. pubescens   \n",
            "3                  Achillea atrata   \n",
            "\n",
            "                                        original_url  POWO_accepted  \\\n",
            "0  https://powo.science.kew.org/taxon/urn:lsid:ip...           True   \n",
            "1  https://powo.science.kew.org/taxon/urn:lsid:ip...           True   \n",
            "2  https://powo.science.kew.org/taxon/urn:lsid:ip...          False   \n",
            "3  https://powo.science.kew.org/taxon/urn:lsid:ip...           True   \n",
            "\n",
            "                         POWO_name POWO_rank  \\\n",
            "0    Abolboda grandis var. grandis   Variety   \n",
            "1              Abrahamia buxifolia   Species   \n",
            "2  Acacia pervillei var. pubescens   Variety   \n",
            "3                  Achillea atrata   Species   \n",
            "\n",
            "                                    POWO_url                        authors  \\\n",
            "0  /taxon/urn:lsid:ipni.org:names:77169068-1                          Malme   \n",
            "1  /taxon/urn:lsid:ipni.org:names:77175637-1  (H.Perrier) Randrian. & Lowry   \n",
            "2  /taxon/urn:lsid:ipni.org:names:20004614-1              Villiers & Du Puy   \n",
            "3    /taxon/urn:lsid:ipni.org:names:173829-1                        Heimerl   \n",
            "\n",
            "  citationType       url_ipni  \n",
            "0    tax. nov.    /n/292698-2  \n",
            "1   comb. nov.  /n/77175637-1  \n",
            "2    tax. nov.  /n/20004614-1  \n",
            "3    tax. nov.  /n/60439412-2  \n"
          ]
        }
      ]
    },
    {
      "cell_type": "markdown",
      "source": [
        "## Save to Google Drive"
      ],
      "metadata": {
        "id": "EGQCEbgz1SN2"
      }
    },
    {
      "cell_type": "code",
      "source": [
        "!pip install gspread\n",
        "from google.colab import auth\n",
        "from google.auth import default\n",
        "import gspread\n",
        "\n",
        "#Auth\n",
        "auth.authenticate_user()\n",
        "creds, _ = default()\n",
        "gc = gspread.authorize(creds)\n",
        "spreadsheet_key = '1IOuauVP3jNCUbcDdQyQ7zyW5lpfoVd_vjDZD0g_rMJ4'\n",
        "workbook = gc.open_by_key(spreadsheet_key)\n",
        "workbook.values_update(\n",
        "  'Blad1',\n",
        "  params={\n",
        "      'valueInputOption': 'USER_ENTERED'\n",
        "  },\n",
        "  body={\n",
        "      'values': [df_results.columns.values.tolist()] + df_results.values.tolist()\n",
        "  }\n",
        ")"
      ],
      "metadata": {
        "colab": {
          "base_uri": "https://localhost:8080/"
        },
        "id": "COLkVcw21Vkp",
        "outputId": "33bafb20-f41d-4665-ada1-193f665d9dfe"
      },
      "execution_count": null,
      "outputs": [
        {
          "output_type": "stream",
          "name": "stdout",
          "text": [
            "Requirement already satisfied: gspread in /usr/local/lib/python3.10/dist-packages (3.4.2)\n",
            "Requirement already satisfied: requests>=2.2.1 in /usr/local/lib/python3.10/dist-packages (from gspread) (2.27.1)\n",
            "Requirement already satisfied: google-auth in /usr/local/lib/python3.10/dist-packages (from gspread) (2.17.3)\n",
            "Requirement already satisfied: urllib3<1.27,>=1.21.1 in /usr/local/lib/python3.10/dist-packages (from requests>=2.2.1->gspread) (1.26.16)\n",
            "Requirement already satisfied: certifi>=2017.4.17 in /usr/local/lib/python3.10/dist-packages (from requests>=2.2.1->gspread) (2023.7.22)\n",
            "Requirement already satisfied: charset-normalizer~=2.0.0 in /usr/local/lib/python3.10/dist-packages (from requests>=2.2.1->gspread) (2.0.12)\n",
            "Requirement already satisfied: idna<4,>=2.5 in /usr/local/lib/python3.10/dist-packages (from requests>=2.2.1->gspread) (3.4)\n",
            "Requirement already satisfied: cachetools<6.0,>=2.0.0 in /usr/local/lib/python3.10/dist-packages (from google-auth->gspread) (5.3.1)\n",
            "Requirement already satisfied: pyasn1-modules>=0.2.1 in /usr/local/lib/python3.10/dist-packages (from google-auth->gspread) (0.3.0)\n",
            "Requirement already satisfied: six>=1.9.0 in /usr/local/lib/python3.10/dist-packages (from google-auth->gspread) (1.16.0)\n",
            "Requirement already satisfied: rsa<5,>=3.1.4 in /usr/local/lib/python3.10/dist-packages (from google-auth->gspread) (4.9)\n",
            "Requirement already satisfied: pyasn1<0.6.0,>=0.4.6 in /usr/local/lib/python3.10/dist-packages (from pyasn1-modules>=0.2.1->google-auth->gspread) (0.5.0)\n"
          ]
        },
        {
          "output_type": "execute_result",
          "data": {
            "text/plain": [
              "{'spreadsheetId': '1IOuauVP3jNCUbcDdQyQ7zyW5lpfoVd_vjDZD0g_rMJ4',\n",
              " 'updatedRange': 'Blad1!A1:F1416',\n",
              " 'updatedRows': 1416,\n",
              " 'updatedColumns': 6,\n",
              " 'updatedCells': 8496}"
            ]
          },
          "metadata": {},
          "execution_count": 15
        }
      ]
    }
  ]
}